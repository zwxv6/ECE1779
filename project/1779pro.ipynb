{
  "nbformat": 4,
  "nbformat_minor": 0,
  "metadata": {
    "colab": {
      "provenance": []
    },
    "kernelspec": {
      "name": "python3",
      "display_name": "Python 3"
    },
    "language_info": {
      "name": "python"
    }
  },
  "cells": [
    {
      "cell_type": "code",
      "execution_count": null,
      "metadata": {
        "colab": {
          "base_uri": "https://localhost:8080/"
        },
        "id": "b1QUfS_gJNtC",
        "outputId": "20e4315f-2a39-4c1b-d5d0-d41742c72abd"
      },
      "outputs": [
        {
          "output_type": "stream",
          "name": "stderr",
          "text": [
            ".vector_cache/glove.6B.zip: 862MB [02:39, 5.41MB/s]                           \n",
            "100%|█████████▉| 399999/400000 [00:26<00:00, 15213.54it/s]\n"
          ]
        }
      ],
      "source": [
        "import torch\n",
        "import torchtext\n",
        "from torchtext import data\n",
        "import torch.optim as optim\n",
        "import argparse\n",
        "import os\n",
        "import pandas as pd\n",
        "from sklearn.model_selection import train_test_split\n",
        "import numpy as np\n",
        "import matplotlib.pyplot as plt\n",
        "import torch.nn.functional as F\n",
        "import random\n",
        "\n",
        "glove = torchtext.vocab.GloVe(name=\"6B\",dim=100)"
      ]
    },
    {
      "cell_type": "code",
      "source": [
        "dfF = pd.read_csv('/content/Fake.csv')\n",
        "dfT = pd.read_csv('/content/True.csv')"
      ],
      "metadata": {
        "id": "1fcvDy5xX4-j"
      },
      "execution_count": null,
      "outputs": []
    },
    {
      "cell_type": "code",
      "source": [
        "X = dfF.drop('title',axis=1)\n",
        "X = X.drop('text',axis=1)\n",
        "X = X.drop('subject',axis=1)\n",
        "X = X.drop('date',axis=1)\n",
        "X['title'] = dfF['title']+' '+dfF['text']\n",
        "X.loc[:, 'real'] = 0"
      ],
      "metadata": {
        "id": "kIB6mczta5cx"
      },
      "execution_count": null,
      "outputs": []
    },
    {
      "cell_type": "code",
      "source": [
        "Y = dfT.drop('title',axis=1)\n",
        "Y = Y.drop('text',axis=1)\n",
        "Y = Y.drop('subject',axis=1)\n",
        "Y = Y.drop('date',axis=1)\n",
        "Y['title'] = dfT['title']+' '+dfT['text']\n",
        "Y.loc[:, 'real'] = 1"
      ],
      "metadata": {
        "id": "8OKmiodHbz6D"
      },
      "execution_count": null,
      "outputs": []
    },
    {
      "cell_type": "code",
      "source": [
        "dfF.loc[:, 'real'] = 0\n",
        "dfT.loc[:, 'real'] = 1"
      ],
      "metadata": {
        "id": "CaWHqoA1e7V1"
      },
      "execution_count": null,
      "outputs": []
    },
    {
      "cell_type": "code",
      "source": [
        "frames = [X,Y]\n",
        "result = pd.concat(frames)"
      ],
      "metadata": {
        "id": "p_dvBLGVcvKw"
      },
      "execution_count": null,
      "outputs": []
    },
    {
      "cell_type": "code",
      "source": [
        "frames = [dfF,dfT]\n",
        "result = pd.concat(frames)"
      ],
      "metadata": {
        "id": "QccBkxCqfFmX"
      },
      "execution_count": null,
      "outputs": []
    },
    {
      "cell_type": "code",
      "source": [
        "def splitData():\n",
        "  df = result\n",
        "\n",
        "  train, test = train_test_split(df, test_size=0.2, random_state=40, stratify=df.real)\n",
        "  training, validation = train_test_split(train, test_size=0.2, random_state=40, stratify=train.real)\n",
        "\n",
        "  print('length of text of train set:',len(training.title))\n",
        "  print('length of label of train set:',len(training.real))\n",
        "  print('length of text of test set:',len(test.title))\n",
        "  print('length of label of test set:',len(test.real))\n",
        "  print('length of text of validation set:',len(validation.title))\n",
        "  print('length of label of validation set:',len(validation.real))\n",
        "  print('===========')\n",
        "  print('length of label 0 of train set:',len(training[training['real']==0]))\n",
        "  print('length of label 1 of train set:',len(training[training['real']==1]))\n",
        "  print('length of label 0 of validation set:',len(validation[validation['real']==0]))\n",
        "  print('length of label 1 of validation set:',len(validation[validation['real']==1]))\n",
        "  print('length of label 0 of test set:',len(test[test['real']==0]))\n",
        "  print('length of label 1 of test set:',len(test[test['real']==1]))\n",
        "  print('===========')\n",
        "  df3=pd.merge(training,test, how='inner')\n",
        "  print('Do train set and test set have the same sample? ', not df3.empty)\n",
        "  df4=pd.merge(training,validation, how='inner')\n",
        "  print('Do train set and validation set have the same sample? ', not df4.empty)\n",
        "  df5=pd.merge(test,validation, how='inner')\n",
        "  print('Do test set and validation set have the same sample? ', not df5.empty)\n",
        "\n",
        "  training.to_csv('train.tsv', sep=\"\\t\")\n",
        "  test.to_csv('test.tsv', sep=\"\\t\")\n",
        "  validation.to_csv('validation.tsv', sep=\"\\t\")"
      ],
      "metadata": {
        "id": "-RbmWEUXJSZS"
      },
      "execution_count": null,
      "outputs": []
    },
    {
      "cell_type": "code",
      "source": [
        "splitData()"
      ],
      "metadata": {
        "colab": {
          "base_uri": "https://localhost:8080/"
        },
        "id": "y0SA5fLiKNDD",
        "outputId": "b583616f-698a-43da-da5f-5144debefd98"
      },
      "execution_count": null,
      "outputs": [
        {
          "output_type": "stream",
          "name": "stdout",
          "text": [
            "length of text of train set: 28734\n",
            "length of label of train set: 28734\n",
            "length of text of test set: 8980\n",
            "length of label of test set: 8980\n",
            "length of text of validation set: 7184\n",
            "length of label of validation set: 7184\n",
            "===========\n",
            "length of label 0 of train set: 15028\n",
            "length of label 1 of train set: 13706\n",
            "length of label 0 of validation set: 3757\n",
            "length of label 1 of validation set: 3427\n",
            "length of label 0 of test set: 4696\n",
            "length of label 1 of test set: 4284\n",
            "===========\n",
            "Do train set and test set have the same sample?  True\n",
            "Do train set and validation set have the same sample?  True\n",
            "Do test set and validation set have the same sample?  True\n"
          ]
        }
      ]
    },
    {
      "cell_type": "code",
      "source": [
        "class TextDataset(torch.utils.data.Dataset):\n",
        "    def __init__(self, vocab, split=\"train\"):\n",
        "        data_path = \"data\"\n",
        "        df = pd.read_csv(os.path.join(data_path, f\"{split}.tsv\"), sep=\"\\t\")\n",
        "\n",
        "        X, Y = [], []\n",
        "        V = len(vocab.vectors)\n",
        "        for i, row in df.iterrows():\n",
        "            L = row[\"title\"].split()\n",
        "            X.append(torch.tensor([vocab.stoi.get(w, V-1) for w in L]))  # Use the last word in the vocab as the \"out-of-vocabulary\" token\n",
        "            Y.append(row.real)\n",
        "        self.X = X\n",
        "        self.Y = torch.tensor(Y)\n",
        "\n",
        "    def __len__(self):\n",
        "        return len(self.X)\n",
        "\n",
        "    def __getitem__(self, idx):\n",
        "        return self.X[idx], self.Y[idx]"
      ],
      "metadata": {
        "id": "mmi6hI1jL1B9"
      },
      "execution_count": null,
      "outputs": []
    },
    {
      "cell_type": "code",
      "source": [
        "def my_collate_function(batch, device):\n",
        "    batch_x, batch_y = [], []\n",
        "    max_len = 0\n",
        "    for x,y in batch:\n",
        "        batch_y.append(y)\n",
        "        max_len = max(max_len, len(x))\n",
        "    for x,y in batch:\n",
        "        x_p = torch.concat(\n",
        "            [x, torch.zeros(max_len - len(x))]\n",
        "        )\n",
        "        batch_x.append(x_p)\n",
        "    return torch.stack(batch_x).t().int().to(device), torch.tensor(batch_y).to(device)"
      ],
      "metadata": {
        "id": "45QSZCqQL3tF"
      },
      "execution_count": null,
      "outputs": []
    },
    {
      "cell_type": "code",
      "source": [
        "class CNNModel(torch.nn.Module):\n",
        "  def __init__(self, vocab,k1,k2,n1,n2):\n",
        "    super().__init__()\n",
        "    self.k1 = (k1, 100)\n",
        "    self.k2 = (k2, 100)\n",
        "    self.n1 = n1\n",
        "    self.n2 = n2\n",
        "    self.probabilityFunction = torch.nn.Sigmoid()\n",
        "\n",
        "    self.embedding = torch.nn.Embedding.from_pretrained(vocab.vectors)\n",
        "\n",
        "    self.conv1 = torch.nn.Conv2d(in_channels=1, out_channels=self.n1, kernel_size=self.k1, bias=False)\n",
        "    self.bn1 = torch.nn.BatchNorm2d(self.n1)\n",
        "    self.maxpool1 = torch.nn.AdaptiveMaxPool2d(output_size=(1, 1))\n",
        "\n",
        "    self.conv2 = torch.nn.Conv2d(in_channels=1, out_channels=self.n2, kernel_size=self.k2, bias=False)\n",
        "    self.bn2 = torch.nn.BatchNorm2d(self.n2)\n",
        "    self.maxpool2 = torch.nn.AdaptiveMaxPool2d(output_size=(1, 1))\n",
        "\n",
        "    self.out = torch.nn.Linear(self.n1+self.n2, 1)\n",
        "\n",
        "  def forward(self, x):\n",
        "    e = self.embedding(x)\n",
        "    input = torch.transpose(e, 0, 1).unsqueeze(1)\n",
        "    x1 = self.conv1(input)\n",
        "    x1 = F.relu(x1)\n",
        "    x1 = self.bn1(x1)\n",
        "    x1 = self.maxpool1(x1)\n",
        "\n",
        "    x2 = self.conv2(input)\n",
        "    x2 = F.relu(x2)\n",
        "    x2 = self.bn2(x2)\n",
        "    x2 = self.maxpool2(x2)\n",
        "\n",
        "    concatenate = torch.cat((x1, x2), dim=1)\n",
        "    output = self.out(concatenate.squeeze())\n",
        "    logits = self.probabilityFunction(output)\n",
        "\n",
        "    return logits.reshape([-1])"
      ],
      "metadata": {
        "id": "8ZUDS-vGL6AA"
      },
      "execution_count": null,
      "outputs": []
    },
    {
      "cell_type": "code",
      "source": [
        "def main(epochs,batchSize,learningRate,k1,k2,n1,n2):\n",
        "    torch.manual_seed(2)\n",
        "\n",
        "    device = torch.device('cuda' if torch.cuda.is_available() else 'cpu')\n",
        "    print (\"Using device:\", device)\n",
        "\n",
        "    train_dataset = TextDataset(glove, \"train\")\n",
        "    val_dataset = TextDataset(glove, \"validation\")\n",
        "    test_dataset = TextDataset(glove, \"test\")\n",
        "\n",
        "    train_dataloader = torch.utils.data.DataLoader(\n",
        "        dataset=train_dataset,\n",
        "        batch_size=batchSize,\n",
        "        shuffle=False,\n",
        "        collate_fn=lambda batch: my_collate_function(batch, device))\n",
        "    validation_dataloader = torch.utils.data.DataLoader(\n",
        "        dataset=val_dataset,\n",
        "        batch_size=batchSize,\n",
        "        shuffle=False,\n",
        "        collate_fn=lambda batch: my_collate_function(batch, device))\n",
        "\n",
        "    test_dataloader = torch.utils.data.DataLoader(\n",
        "        dataset=test_dataset,\n",
        "        batch_size=batchSize,\n",
        "        shuffle=False,\n",
        "        collate_fn=lambda batch: my_collate_function(batch, device))\n",
        "\n",
        "    model = CNNModel(glove,k1=k1,k2=k2,n1=n1,n2=n2)\n",
        "    optimizer = torch.optim.Adam(params=model.parameters(), lr=learningRate)\n",
        "    lossFunction = torch.nn.BCEWithLogitsLoss()\n",
        "    probabilityFunction = torch.nn.Sigmoid()\n",
        "\n",
        "    totalLoss = []\n",
        "    totalTestLoss = []\n",
        "    totalValidationLoss = []\n",
        "    totalAccuray = []\n",
        "\n",
        "    for i in range(epochs):\n",
        "      print(i)\n",
        "      currentEpochLoss = 0\n",
        "      currentEpochLossV = 0\n",
        "      currentEpochLossT = 0\n",
        "      currentEpochValidationLoss = 0\n",
        "      for X_train, y_train in train_dataloader:\n",
        "        optimizer.zero_grad()\n",
        "        logits = model(x=X_train)\n",
        "        currentLoss = lossFunction(logits, y_train.float())\n",
        "        currentEpochLoss = currentEpochLoss + currentLoss\n",
        "        currentLoss.backward()\n",
        "        optimizer.step()\n",
        "\n",
        "      averageCurrentEpochLoss = currentEpochLoss/len(train_dataloader)\n",
        "      totalLoss.append(averageCurrentEpochLoss.item())\n",
        "\n",
        "      for X_validation, y_validation in validation_dataloader:\n",
        "        model.eval()\n",
        "        with torch.no_grad():\n",
        "          logitsV = model(x=X_validation)\n",
        "        currentLossV = lossFunction(logitsV, y_validation.float())\n",
        "        currentEpochLossV = currentEpochLossV + currentLossV\n",
        "\n",
        "      averageCurrentEpochLossV = currentEpochLossV/len(validation_dataloader)\n",
        "      totalValidationLoss.append(averageCurrentEpochLossV.item())\n",
        "\n",
        "      currentAccuray = 0\n",
        "      numbers = 0\n",
        "      for X_test, y_test in test_dataloader:\n",
        "        model.eval()\n",
        "        with torch.no_grad():\n",
        "          logitsT = model(x=X_test)\n",
        "        currentLossT = lossFunction(logitsT, y_test.float())\n",
        "        currentEpochLossT = currentEpochLossT + currentLossT\n",
        "\n",
        "        probability = probabilityFunction(logitsT)\n",
        "        probability = torch.maximum(probability, torch.tensor([1e-5]))\n",
        "        probability = torch.minimum(probability, torch.tensor([0.99999]))\n",
        "        Y_pred = torch.round(probability)\n",
        "\n",
        "        n = 0\n",
        "        for eachy_test in y_test:\n",
        "          if eachy_test.item() == Y_pred[n]:\n",
        "            currentAccuray  = currentAccuray + 1\n",
        "          n = n + 1\n",
        "        numbers = numbers + len(Y_pred)\n",
        "\n",
        "      totalEpochAccuray = currentAccuray/numbers\n",
        "      totalAccuray.append(totalEpochAccuray)\n",
        "\n",
        "      averageCurrentEpochLossT = currentEpochLossT/len(validation_dataloader)\n",
        "      totalTestLoss.append(averageCurrentEpochLossT.item())\n",
        "\n",
        "    torch.save(model.state_dict(), '/content/CNNModel')\n",
        "\n",
        "    return model, totalLoss, totalValidationLoss, totalTestLoss, totalAccuray"
      ],
      "metadata": {
        "id": "-kTkg0rUL-Bt"
      },
      "execution_count": null,
      "outputs": []
    },
    {
      "cell_type": "code",
      "source": [
        "# please create a folder called 'data' in colab and put 'overfit.tsv' 'train.tsv' 'test.tsv' 'validation.tsv' into 'data' folder\n",
        "embedding, totalLoss, totalValidationLoss, totalTestLoss, totalAccuray = main(50,4,0.0001,2,4,20,20)\n",
        "plt.plot(totalLoss, label='Train Loss')\n",
        "plt.plot(totalValidationLoss, label='Validation Loss')\n",
        "plt.plot(totalTestLoss, label='Test Loss')\n",
        "plt.plot(totalAccuray, label='Accuray')\n",
        "plt.legend()"
      ],
      "metadata": {
        "colab": {
          "base_uri": "https://localhost:8080/",
          "height": 1000
        },
        "id": "F3-1nvKFMOIM",
        "outputId": "7e796bf1-bc83-4f7b-fbd8-489c6f9b9da9"
      },
      "execution_count": null,
      "outputs": [
        {
          "output_type": "stream",
          "name": "stdout",
          "text": [
            "Using device: cpu\n",
            "0\n",
            "1\n",
            "2\n",
            "3\n",
            "4\n",
            "5\n",
            "6\n",
            "7\n",
            "8\n",
            "9\n",
            "10\n",
            "11\n",
            "12\n",
            "13\n",
            "14\n",
            "15\n",
            "16\n",
            "17\n",
            "18\n",
            "19\n",
            "20\n",
            "21\n",
            "22\n",
            "23\n",
            "24\n",
            "25\n",
            "26\n",
            "27\n",
            "28\n",
            "29\n",
            "30\n",
            "31\n",
            "32\n",
            "33\n",
            "34\n",
            "35\n",
            "36\n",
            "37\n",
            "38\n",
            "39\n",
            "40\n",
            "41\n",
            "42\n",
            "43\n",
            "44\n",
            "45\n",
            "46\n",
            "47\n",
            "48\n",
            "49\n"
          ]
        },
        {
          "output_type": "execute_result",
          "data": {
            "text/plain": [
              "<matplotlib.legend.Legend at 0x7d9c692576a0>"
            ]
          },
          "metadata": {},
          "execution_count": 11
        },
        {
          "output_type": "display_data",
          "data": {
            "text/plain": [
              "<Figure size 640x480 with 1 Axes>"
            ],
            "image/png": "[encoded data removed]"
          },
          "metadata": {}
        }
      ]
    },
    {
      "cell_type": "code",
      "source": [
        "print(totalAccuray[-1])"
      ],
      "metadata": {
        "colab": {
          "base_uri": "https://localhost:8080/"
        },
        "id": "hew_WLPupArC",
        "outputId": "ab96567b-d420-4490-8bc1-3b7ffdbea178"
      },
      "execution_count": null,
      "outputs": [
        {
          "output_type": "stream",
          "name": "stdout",
          "text": [
            "0.9868596881959911\n"
          ]
        }
      ]
    },
    {
      "cell_type": "code",
      "source": [
        "print(max(totalAccuray))"
      ],
      "metadata": {
        "id": "j4NRmum9sAe2",
        "outputId": "29d37253-1e23-42a8-e3ba-b39972363971",
        "colab": {
          "base_uri": "https://localhost:8080/"
        }
      },
      "execution_count": null,
      "outputs": [
        {
          "output_type": "stream",
          "name": "stdout",
          "text": [
            "0.9927616926503341\n"
          ]
        }
      ]
    }
  ]
}